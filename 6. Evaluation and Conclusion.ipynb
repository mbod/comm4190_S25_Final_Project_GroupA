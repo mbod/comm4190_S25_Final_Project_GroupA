{
 "cells": [
  {
   "cell_type": "markdown",
   "id": "5952e516-5d4a-4168-af93-bd70ab48b7a3",
   "metadata": {},
   "source": [
    "Pros:\n",
    "- asdf\n",
    "- sf sdaf in\n",
    "  "
   ]
  },
  {
   "cell_type": "markdown",
   "id": "17b741c7-79e5-43fb-ba2f-8b04456cbbd0",
   "metadata": {},
   "source": [
    "Cons:\n",
    "- "
   ]
  },
  {
   "cell_type": "markdown",
   "id": "3151625b-7efc-4c9a-b3c8-2f4d67e84961",
   "metadata": {},
   "source": [
    "## Overall Thoughts:"
   ]
  }
 ],
 "metadata": {
  "kernelspec": {
   "display_name": "Python 3 (ipykernel)",
   "language": "python",
   "name": "python3"
  },
  "language_info": {
   "codemirror_mode": {
    "name": "ipython",
    "version": 3
   },
   "file_extension": ".py",
   "mimetype": "text/x-python",
   "name": "python",
   "nbconvert_exporter": "python",
   "pygments_lexer": "ipython3",
   "version": "3.10.12"
  }
 },
 "nbformat": 4,
 "nbformat_minor": 5
}
