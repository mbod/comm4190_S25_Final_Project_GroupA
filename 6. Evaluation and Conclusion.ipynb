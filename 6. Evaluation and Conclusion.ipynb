{
 "cells": [
  {
   "cell_type": "markdown",
   "id": "5952e516-5d4a-4168-af93-bd70ab48b7a3",
   "metadata": {},
   "source": [
    "Pros:\n",
    "\n",
    "- The Co-Pilot was very perceptive to each of our concerns, prefences, and requirements\n",
    "- Even though we started off coding it to help plan out courses for 3 inteded majors and 1 minor, the Co-Pilot essentially is able to help plan course schedules for any combination of major and minor now, along with specific requests (such as advanced level courses for a senior)\n",
    "\n",
    "Cons:\n",
    "- Since the full list of Penn's current course offerings is only accessible with a Pennkey login, it is not possible for our Co-Pilot to go directly into path@penn to take into consideration different choices in professors or times for each course\n",
    "- Some classes that are typically listed under one semester could be discontinued or not offered in a specific semester, which the Co-Pilot again would not have access to know about  \n",
    "- \n",
    "\n",
    "## Overall Thoughts:\n",
    "\n",
    "\n",
    "Slide 3\n",
    "\n",
    "import sys\n",
    "import base64\n",
    "import zlib\n",
    "from IPython.display import Image,display,SVG\n",
    "\n",
    "def mm(diagram):\n",
    "    encoded_diagram = base64.urlsafe_b64encode(zlib.compress(diagram.encode('utf-8'), 9)).decode('ascii')\n",
    "    dia_url = f'https://kroki.io/mermaid/svg/{encoded_diagram}'\n",
    "    display(Image(url=dia_url))\n",
    "\n",
    "def mm(diagram):\n",
    "    encoded_diagram = base64.urlsafe_b64encode(zlib.compress(diagram.encode('utf-8'), 9)).decode('ascii')\n",
    "    dia_url = f'https://kroki.io/mermaid/svg/{encoded_diagram}'\n",
    "    display(Image(url=dia_url))"
   ]
  },
  {
   "cell_type": "markdown",
   "id": "17b741c7-79e5-43fb-ba2f-8b04456cbbd0",
   "metadata": {},
   "source": [
    "Cons:\n",
    "- "
   ]
  },
  {
   "cell_type": "markdown",
   "id": "3151625b-7efc-4c9a-b3c8-2f4d67e84961",
   "metadata": {},
   "source": [
    "## Overall Thoughts:"
   ]
  }
 ],
 "metadata": {
  "kernelspec": {
   "display_name": "Python 3 (ipykernel)",
   "language": "python",
   "name": "python3"
  },
  "language_info": {
   "codemirror_mode": {
    "name": "ipython",
    "version": 3
   },
   "file_extension": ".py",
   "mimetype": "text/x-python",
   "name": "python",
   "nbconvert_exporter": "python",
   "pygments_lexer": "ipython3",
   "version": "3.10.12"
  }
 },
 "nbformat": 4,
 "nbformat_minor": 5
}
