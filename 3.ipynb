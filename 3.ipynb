{
 "cells": [
  {
   "cell_type": "markdown",
   "id": "eef52135-2f54-4ba1-be1f-128bbe91bd8b",
   "metadata": {},
   "source": [
    "# ADD A TITLE\n",
    "\n",
    "* ADD AN DESCRIPTION OF WHAT THIS NOTEBOOK IS?"
   ]
  },
  {
   "cell_type": "code",
   "execution_count": 2,
   "id": "bbedd8f0-77b7-4df5-ae3b-4197570e3bfd",
   "metadata": {},
   "outputs": [],
   "source": [
    "import sys\n",
    "import base64\n",
    "import zlib\n",
    "from IPython.display import Image,display,SVG\n",
    "\n",
    "def mm(diagram):\n",
    "    encoded_diagram = base64.urlsafe_b64encode(zlib.compress(diagram.encode('utf-8'), 9)).decode('ascii')\n",
    "    dia_url = f'https://kroki.io/mermaid/svg/{encoded_diagram}'\n",
    "    display(Image(url=dia_url))\n",
    "\n",
    "def mm(diagram):\n",
    "    encoded_diagram = base64.urlsafe_b64encode(zlib.compress(diagram.encode('utf-8'), 9)).decode('ascii')\n",
    "    dia_url = f'https://kroki.io/mermaid/svg/{encoded_diagram}'\n",
    "    display(Image(url=dia_url))"
   ]
  },
  {
   "cell_type": "code",
   "execution_count": 3,
   "id": "ea13675d-e77e-4aec-8dd5-86da9ec06fc4",
   "metadata": {},
   "outputs": [
    {
     "data": {
      "text/html": [
       "<img src=\"https://kroki.io/mermaid/svg/eNp1k09v2zAMxe_9FOxphzkD1uMOKYJsbQOsQLF06Jm1GFuNLGYUlczffpTyrygy3wy_9xMfn3yV6E-m2NJ3j53gcAX2_E4kk-l01lHUb_DSo0IbMCVKkHrOwcECFNd0W9VVNjF9sR3kPsHIWWDAN5bbC9C5jzQgLDU7T-m_nJFQAIUK7RLmuffiquodYjp9Zg5fP0ze47ZioOVhE0jJAQYhdOMeXD1n8iwE0J5MbafXGCC2Ki802PcEn-GFxTZx58MADz4py9jAshWiuBOvPnYNYHTHpE_CLrfqOZoVDd5yCNQR2HFALl2a_4F3dnQcTxkc1wQ7jArKtQMb0padbKqkdHHVd35bYmRJlxe9gJS7zuzA8SiElfBQ8x-i1Sj3xHZHNv0IM1Xxr1mpgZsj--x5l7XYngTtpaWzy1ZwA_PF43IiFLBUcWBcwyLCBsXkOaA0NtyuXjih1nqj6JrTRLyCee-DE4qf0mHNzb6PH397_-pPAzzy1lPHtZI5b0bxXa_7cnLQLJbiF22Eku0FiysVeE3PgVvMSfddLsvBSiEYCnyE2Up8i9fwkxQGgnW0wvyqdlSvW-mOjSNg9BVJ-dGMLaA7wnWqHZb6gkX6Urv5ByjfNpw=\"/>"
      ],
      "text/plain": [
       "<IPython.core.display.Image object>"
      ]
     },
     "metadata": {},
     "output_type": "display_data"
    }
   ],
   "source": [
    "dia1 = '''\n",
    "sequenceDiagram\n",
    "    User->>Agent: What classes should I take?\n",
    "    Agent-->>User: What is your major?\n",
    "    User->>Agent: Cinema Studies\n",
    "    Agent-->>User: What year are you?\n",
    "    User->>Agent: Third year\n",
    "    Agent->>Tool1: What classes have you completed already?\n",
    "    Tool1->>Agent: All the core major requirements + World Film History, Screenwriting, and Cinema Production + all college gen eds\n",
    "    Agent->>Tool1: How many classes do you want to take this semester?\n",
    "    User->>Agent: Five courses\n",
    "    Agent-->>User: I suggest one course from the History and Geography Attribute, 2 courses from the Production and Practice Attribute + 2 CIMS-related courses! In particular, I would reccomend, History of Children's Cinema, Film Exhibition and Moviegoing, Copyright and Culture, Representations of the Holocaust, and Storytelling in Africa! Let me know if you have any other preferences or tweaks to this list.\n",
    "    '''\n",
    "\n",
    "mm(dia1)"
   ]
  },
  {
   "cell_type": "code",
   "execution_count": 4,
   "id": "d174ea0a-dcaa-4f17-b7d8-6d780b814031",
   "metadata": {},
   "outputs": [
    {
     "data": {
      "text/html": [
       "<img src=\"https://kroki.io/mermaid/svg/eNptVD1v2zAQ3fMrLlOWOEBatEMGBwHaIVMKNEXQ8SyeLMYUryWpCPr3fUfagZ3aiy3p9N69D_oiy99JYiffPG8TjxeEz68sabVeP2wlljt6vBqJI0mnkUZ-1YQrRzPHQkVpF3Um31MZJMlVpqQ6ksfkQrkbxE1BbIxDwNxYf-cyuYV4k5TdfSWsTCtQGvMdPQ9cALVNwuWSXnBFizB4k9Ci0_2ZJX_aeo5-Y-wcYsXodEpZMg38VnGo8E4iZaWe0znQFwmB8FMSB0owyicZ8YRmn4UeSWNYKIo4-kyjYrkucAbDdXUIjkSYB67Gs9EyHFAcnMTVYSMb_0RaXaSvsA8uVb_3A0eS1utn1XD7bhLPknWUS3qwUKQ5hPdi9k6Sj1uALzT6qCmTZUdOpw1CqVHe01OCGsi0t3Lx3c4Sep1yaQtwtiepTdc1Kv1RO4jHUzoafC6a9qS0mQpFLZQn203KOS1Pu0PYj_3pJrDOQL-8WyXcDZQRQy6SrptYtNNJ76MvgkBGuN1q-KFrQIf_nY7I0JHN58HAzfTeRCJdxl3cOjafNtLr3tdXKYipr41G8jMFRIe4g-Kl2SPS29V7kNBISPqoOPkGTcRdQF0Bsa3VRORBp-BqVdAr2ZMDh0sLqJ9Cb99suKtTXMLQD4nx4yKHJPZKbmppcHSXxmmx1A5Xgo3gxCYuXTXFVFqxTExtQGceHGuhPsHj-iyA57ombcoaVkFCBjQPYv8N1ZHTZnhA4AuvXNL3NzshUmqovpXASYdSmddbtcmZk2va_sNqeqoMDmgSMq-nvCrocN489i1qCBlKxj9Bird69yBsGg6dOpSl9vQfxs3Ifg==\"/>"
      ],
      "text/plain": [
       "<IPython.core.display.Image object>"
      ]
     },
     "metadata": {},
     "output_type": "display_data"
    }
   ],
   "source": [
    "dia2 = '''\n",
    "sequenceDiagram\n",
    "    User->>Agent: I'm an econ major and want to know if there's room in my schedule to allow me to study abroad?\n",
    "    Agent-->>User: That's great! What year are you?\n",
    "    User->>Agent: Second Year\n",
    "    Agent-->>User: What courses have you taken so far?\n",
    "    User->>Agent: Well general requirement wise I only need 3 more classes, and then I've taken both required math courses and 2 of the 6 into econ courses\n",
    "    Agent->>Tool1: That's awesome! And were you considering any minors or a double major? Or will you stick to just econ as your major\n",
    "    Tool1->>Agent: I am considering a history minor but not sure yet\n",
    "    Agent->>Tool1: Ok great! If you stick to taking 5 courses each semester, you can definitely make room to study abroad! I recommend finishing the four remaining econ courses before you jet off to a new land, along with 1-2 of the gen ed requirements. When you're abroad, you should take one course that will fulfill a gen-ed requirement at Penn along with 1-2 history courses. That way, you not only will be scratching off some of your core requirements from your list, but you'll be testing whether the history minor is for you! Even better, if you decide to go forward with the history minor, you will already have some credits towards completion after your semester abroad!\n",
    "    '''\n",
    "\n",
    "mm(dia2)"
   ]
  }
 ],
 "metadata": {
  "kernelspec": {
   "display_name": "Python 3 (ipykernel)",
   "language": "python",
   "name": "python3"
  },
  "language_info": {
   "codemirror_mode": {
    "name": "ipython",
    "version": 3
   },
   "file_extension": ".py",
   "mimetype": "text/x-python",
   "name": "python",
   "nbconvert_exporter": "python",
   "pygments_lexer": "ipython3",
   "version": "3.10.12"
  }
 },
 "nbformat": 4,
 "nbformat_minor": 5
}
