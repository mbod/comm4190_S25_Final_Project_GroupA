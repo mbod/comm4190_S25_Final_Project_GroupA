{
 "cells": [
  {
   "cell_type": "raw",
   "id": "77936b36-1731-4d09-a72f-3ca29861700a",
   "metadata": {},
   "source": [
    "---\n",
    "title: \"Project Proposal and Use Cases\"\n",
    "description: \"Course Planner Co Pilot for College of Arts and Sciences Students at UPenn\"\n",
    "author: \"An LLM User\"\n",
    "---"
   ]
  },
  {
   "cell_type": "markdown",
   "id": "0ac10ae0-8820-414b-bdba-ba7b11f61e98",
   "metadata": {},
   "source": [
    "Project Proposal: Course Planner Co Pilot for College of Arts and Sciences Students at UPenn\n",
    "Amelie, Sose, Carlos\n",
    "\n",
    "We are interested in using LLM capabilities to help assist students in their course planning journeys. While there is currently a lot of information online about different classes, the sources of information are often scattered and hard to consolidate together, and advising is also difficult to use consistently. As such, we see this gap between resources and planning as something that could be easily bridged by using the power of AI and LLMs.\n",
    "\n",
    "In our project, we will attempt to train LLM by both using prompting and uploading information about course requirements and planning, so that the final product is a Course Planner Co Pilot that students can use readily to make it easier.\n",
    "\n",
    "User scenarios:\n",
    "CAS Junior doing a CIMS major is selecting classes for Fall 2025 and Spring 2026 and wants to make sure they complete all requirements of major to graduate\n",
    "Wharton Sophomore doing a Data Science and Analytics minor and wants to plan out the 6 courses they will take to fulfill this minor\n",
    "CAS Freshman weighs 2 different majors and wants the LLM to compare the two to help decide what courses they would be more interested in taking \n",
    "CAS Sophomore doing an Economics major wondering if they can study abroad junior year and still complete their concentration\n",
    "CAS Freshman asking if taking PHIL 008 fulfills both the Sector 2 and Ethics requirement\n",
    "\n",
    "2. Collect together example documents needed for each of your three majors, i.e. the handbook/website page that outlines what the requirements are, lists of classes, schedule, and FAQ or example schedules etc.\n",
    "Major/minor requirements from the department websites\n",
    "College sector requirements\n",
    "Sample schedules\n",
    "Course descriptions and schedules (from Path@Penn or department PDFs)\n",
    "FAQs and advising documents\n",
    "\n",
    "3. Try constructing some prompts to respond to the user scenarios (you'll want to follow a similar structure to the Mollick tutor prompt we looked at - so it should be multi turn - first seek information it needs from user and then present clear answer with explanation etc)\n",
    " \n",
    "\n",
    "\n"
   ]
  }
 ],
 "metadata": {
  "citation-manager": {
   "items": {}
  },
  "kernelspec": {
   "display_name": "Python 3 (ipykernel)",
   "language": "python",
   "name": "python3"
  },
  "language_info": {
   "codemirror_mode": {
    "name": "ipython",
    "version": 3
   },
   "file_extension": ".py",
   "mimetype": "text/x-python",
   "name": "python",
   "nbconvert_exporter": "python",
   "pygments_lexer": "ipython3",
   "version": "3.10.12"
  }
 },
 "nbformat": 4,
 "nbformat_minor": 5
}
