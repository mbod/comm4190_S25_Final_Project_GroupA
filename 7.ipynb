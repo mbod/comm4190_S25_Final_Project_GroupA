{
 "cells": [
  {
   "cell_type": "markdown",
   "id": "49de9c17-af7e-4265-ab5b-02bb1c569269",
   "metadata": {},
   "source": [
    "# Logo and Name:\n",
    "\n",
    "<img src=\"img/logo.jpeg\" width=\"50%\"/>\n"
   ]
  },
  {
   "cell_type": "code",
   "execution_count": null,
   "id": "4497dc1f-b905-4ed1-84ee-45cf7eb938c3",
   "metadata": {},
   "outputs": [],
   "source": []
  }
 ],
 "metadata": {
  "kernelspec": {
   "display_name": "Python 3 (ipykernel)",
   "language": "python",
   "name": "python3"
  },
  "language_info": {
   "codemirror_mode": {
    "name": "ipython",
    "version": 3
   },
   "file_extension": ".py",
   "mimetype": "text/x-python",
   "name": "python",
   "nbconvert_exporter": "python",
   "pygments_lexer": "ipython3",
   "version": "3.10.12"
  }
 },
 "nbformat": 4,
 "nbformat_minor": 5
}
